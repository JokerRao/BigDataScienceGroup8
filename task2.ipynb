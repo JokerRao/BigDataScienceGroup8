{
 "cells": [
  {
   "attachments": {},
   "cell_type": "markdown",
   "metadata": {},
   "source": [
    "## 0. Import and some functions"
   ]
  },
  {
   "cell_type": "code",
   "execution_count": 14,
   "metadata": {},
   "outputs": [],
   "source": [
    "import pandas as pd\n",
    "import numpy as np\n",
    "import math\n",
    "import scanpy as sc\n",
    "from sklearn.metrics import r2_score, mean_squared_error\n",
    "import matplotlib.pyplot as plt\n",
    "from sklearn.multioutput import MultiOutputRegressor"
   ]
  },
  {
   "attachments": {},
   "cell_type": "markdown",
   "metadata": {},
   "source": [
    "## 1. Load data\n",
    "\n",
    "Load all csv data in database"
   ]
  },
  {
   "cell_type": "code",
   "execution_count": 4,
   "metadata": {},
   "outputs": [
    {
     "data": {
      "text/html": [
       "<div>\n",
       "<style scoped>\n",
       "    .dataframe tbody tr th:only-of-type {\n",
       "        vertical-align: middle;\n",
       "    }\n",
       "\n",
       "    .dataframe tbody tr th {\n",
       "        vertical-align: top;\n",
       "    }\n",
       "\n",
       "    .dataframe thead th {\n",
       "        text-align: right;\n",
       "    }\n",
       "</style>\n",
       "<table border=\"1\" class=\"dataframe\">\n",
       "  <thead>\n",
       "    <tr style=\"text-align: right;\">\n",
       "      <th></th>\n",
       "      <th>Astrocyte0</th>\n",
       "      <th>Ependymal10</th>\n",
       "      <th>Immune1</th>\n",
       "      <th>Immune8</th>\n",
       "      <th>Neurons4</th>\n",
       "      <th>Neurons5</th>\n",
       "      <th>Neurons7</th>\n",
       "      <th>Oligos3</th>\n",
       "      <th>Oligos6</th>\n",
       "      <th>Vascular11</th>\n",
       "      <th>Vascular2</th>\n",
       "      <th>Vascular9</th>\n",
       "    </tr>\n",
       "  </thead>\n",
       "  <tbody>\n",
       "    <tr>\n",
       "      <th>sample_1</th>\n",
       "      <td>0.100257</td>\n",
       "      <td>0.060708</td>\n",
       "      <td>0.084437</td>\n",
       "      <td>0.137038</td>\n",
       "      <td>0.016808</td>\n",
       "      <td>0.044493</td>\n",
       "      <td>0.054380</td>\n",
       "      <td>0.053787</td>\n",
       "      <td>0.121811</td>\n",
       "      <td>0.085031</td>\n",
       "      <td>0.128930</td>\n",
       "      <td>0.112320</td>\n",
       "    </tr>\n",
       "    <tr>\n",
       "      <th>sample_2</th>\n",
       "      <td>0.020145</td>\n",
       "      <td>0.105319</td>\n",
       "      <td>0.063262</td>\n",
       "      <td>0.075808</td>\n",
       "      <td>0.009189</td>\n",
       "      <td>0.046651</td>\n",
       "      <td>0.070507</td>\n",
       "      <td>0.147729</td>\n",
       "      <td>0.152854</td>\n",
       "      <td>0.108676</td>\n",
       "      <td>0.136950</td>\n",
       "      <td>0.062909</td>\n",
       "    </tr>\n",
       "    <tr>\n",
       "      <th>sample_3</th>\n",
       "      <td>0.065611</td>\n",
       "      <td>0.114253</td>\n",
       "      <td>0.135423</td>\n",
       "      <td>0.038785</td>\n",
       "      <td>0.124596</td>\n",
       "      <td>0.057531</td>\n",
       "      <td>0.086619</td>\n",
       "      <td>0.015029</td>\n",
       "      <td>0.027473</td>\n",
       "      <td>0.145443</td>\n",
       "      <td>0.068358</td>\n",
       "      <td>0.120879</td>\n",
       "    </tr>\n",
       "    <tr>\n",
       "      <th>sample_4</th>\n",
       "      <td>0.160585</td>\n",
       "      <td>0.186341</td>\n",
       "      <td>0.133659</td>\n",
       "      <td>0.097756</td>\n",
       "      <td>0.053659</td>\n",
       "      <td>0.044683</td>\n",
       "      <td>0.002732</td>\n",
       "      <td>0.142244</td>\n",
       "      <td>0.048780</td>\n",
       "      <td>0.031415</td>\n",
       "      <td>0.003317</td>\n",
       "      <td>0.094829</td>\n",
       "    </tr>\n",
       "    <tr>\n",
       "      <th>sample_5</th>\n",
       "      <td>0.018659</td>\n",
       "      <td>0.145290</td>\n",
       "      <td>0.064130</td>\n",
       "      <td>0.169565</td>\n",
       "      <td>0.044565</td>\n",
       "      <td>0.085688</td>\n",
       "      <td>0.034783</td>\n",
       "      <td>0.105616</td>\n",
       "      <td>0.083152</td>\n",
       "      <td>0.084601</td>\n",
       "      <td>0.072464</td>\n",
       "      <td>0.091486</td>\n",
       "    </tr>\n",
       "  </tbody>\n",
       "</table>\n",
       "</div>"
      ],
      "text/plain": [
       "          Astrocyte0  Ependymal10   Immune1   Immune8  Neurons4  Neurons5  \\\n",
       "sample_1    0.100257     0.060708  0.084437  0.137038  0.016808  0.044493   \n",
       "sample_2    0.020145     0.105319  0.063262  0.075808  0.009189  0.046651   \n",
       "sample_3    0.065611     0.114253  0.135423  0.038785  0.124596  0.057531   \n",
       "sample_4    0.160585     0.186341  0.133659  0.097756  0.053659  0.044683   \n",
       "sample_5    0.018659     0.145290  0.064130  0.169565  0.044565  0.085688   \n",
       "\n",
       "          Neurons7   Oligos3   Oligos6  Vascular11  Vascular2  Vascular9  \n",
       "sample_1  0.054380  0.053787  0.121811    0.085031   0.128930   0.112320  \n",
       "sample_2  0.070507  0.147729  0.152854    0.108676   0.136950   0.062909  \n",
       "sample_3  0.086619  0.015029  0.027473    0.145443   0.068358   0.120879  \n",
       "sample_4  0.002732  0.142244  0.048780    0.031415   0.003317   0.094829  \n",
       "sample_5  0.034783  0.105616  0.083152    0.084601   0.072464   0.091486  "
      ]
     },
     "execution_count": 4,
     "metadata": {},
     "output_type": "execute_result"
    }
   ],
   "source": [
    "bulk_counts=pd.read_csv('./bulk_counts.tsv',sep='\\t')\n",
    "singlecell_counts=pd.read_csv('./singlecell_counts.tsv',sep='\\t')\n",
    "true_proportions=pd.read_csv('./true_proportions.tsv',sep='\\t')\n",
    "\n",
    "beta0 = true_proportions.to_numpy(dtype=np.float64) # beta to array\n",
    "\n",
    "\n",
    "# View the first 5 rows\n",
    "# singlecell_counts.head()\n",
    "# bulk_counts.head() # y\n",
    "true_proportions.head() # beta"
   ]
  },
  {
   "attachments": {},
   "cell_type": "markdown",
   "metadata": {},
   "source": [
    "## 2. Process data\n",
    "\n",
    "average cell types, normalization and divide train and test dataset"
   ]
  },
  {
   "cell_type": "code",
   "execution_count": 5,
   "metadata": {},
   "outputs": [
    {
     "name": "stdout",
     "output_type": "stream",
     "text": [
      "The shape of scRNA-seq array: (10310, 2363)\n"
     ]
    }
   ],
   "source": [
    "sc_counts = sc.AnnData(singlecell_counts.T)  # Assuming count_data is your pandas DataFrame\n",
    "sc.pp.filter_cells(sc_counts, min_counts=900)  # Filter cells with low total counts\n",
    "sc.pp.filter_genes(sc_counts, min_cells=10)  # Filter genes expressed in fewer cells\n",
    "\n",
    "# to DataFrame\n",
    "bulk_counts0 = bulk_counts.loc[sc_counts.var_names,:]\n",
    "bulk_counts0 = bulk_counts0.to_numpy(dtype=np.float64) # Y to array\n",
    "\n",
    "gene_expression = sc_counts.X\n",
    "cell_metadata = sc_counts.obs\n",
    "df_counts = pd.DataFrame(data=gene_expression, index=sc_counts.obs_names, columns=sc_counts.var_names).T\n",
    "df_cell_metadata = pd.DataFrame(data=cell_metadata) # total counts\n",
    "print(f\"The shape of scRNA-seq array: {df_counts.shape}\")\n",
    "\n",
    "# for downstream analysis if it is necessary\n",
    "sc.pp.normalize_total(sc_counts, target_sum=1e4)  # Normalize total counts to a fixed value\n",
    "sc.pp.log1p(sc_counts)  # Logarithmize the data"
   ]
  },
  {
   "cell_type": "code",
   "execution_count": 77,
   "metadata": {},
   "outputs": [
    {
     "name": "stdout",
     "output_type": "stream",
     "text": [
      "The reference profile of cell type - genes is concluded in the matrix with (10310, 12) dimension.\n"
     ]
    },
    {
     "data": {
      "text/html": [
       "<div>\n",
       "<style scoped>\n",
       "    .dataframe tbody tr th:only-of-type {\n",
       "        vertical-align: middle;\n",
       "    }\n",
       "\n",
       "    .dataframe tbody tr th {\n",
       "        vertical-align: top;\n",
       "    }\n",
       "\n",
       "    .dataframe thead th {\n",
       "        text-align: right;\n",
       "    }\n",
       "</style>\n",
       "<table border=\"1\" class=\"dataframe\">\n",
       "  <thead>\n",
       "    <tr style=\"text-align: right;\">\n",
       "      <th></th>\n",
       "      <th>Astrocyte0</th>\n",
       "      <th>Ependymal10</th>\n",
       "      <th>Immune1</th>\n",
       "      <th>Immune8</th>\n",
       "      <th>Neurons4</th>\n",
       "      <th>Neurons5</th>\n",
       "      <th>Neurons7</th>\n",
       "      <th>Oligos3</th>\n",
       "      <th>Oligos6</th>\n",
       "      <th>Vascular11</th>\n",
       "      <th>Vascular2</th>\n",
       "      <th>Vascular9</th>\n",
       "    </tr>\n",
       "  </thead>\n",
       "  <tbody>\n",
       "    <tr>\n",
       "      <th>0</th>\n",
       "      <td>0.445175</td>\n",
       "      <td>0.333333</td>\n",
       "      <td>0.207824</td>\n",
       "      <td>0.261905</td>\n",
       "      <td>0.475806</td>\n",
       "      <td>0.200000</td>\n",
       "      <td>0.087719</td>\n",
       "      <td>343.970845</td>\n",
       "      <td>29.796992</td>\n",
       "      <td>0.230769</td>\n",
       "      <td>0.343902</td>\n",
       "      <td>0.148148</td>\n",
       "    </tr>\n",
       "    <tr>\n",
       "      <th>1</th>\n",
       "      <td>0.883772</td>\n",
       "      <td>1.037037</td>\n",
       "      <td>1.036675</td>\n",
       "      <td>1.047619</td>\n",
       "      <td>4.262097</td>\n",
       "      <td>0.983784</td>\n",
       "      <td>1.157895</td>\n",
       "      <td>0.699708</td>\n",
       "      <td>1.345865</td>\n",
       "      <td>0.961538</td>\n",
       "      <td>65.860976</td>\n",
       "      <td>4.703704</td>\n",
       "    </tr>\n",
       "    <tr>\n",
       "      <th>2</th>\n",
       "      <td>24.929825</td>\n",
       "      <td>14.259259</td>\n",
       "      <td>3.867971</td>\n",
       "      <td>161.357143</td>\n",
       "      <td>0.161290</td>\n",
       "      <td>0.091892</td>\n",
       "      <td>0.105263</td>\n",
       "      <td>0.416910</td>\n",
       "      <td>2.428571</td>\n",
       "      <td>1.115385</td>\n",
       "      <td>1.590244</td>\n",
       "      <td>31.000000</td>\n",
       "    </tr>\n",
       "    <tr>\n",
       "      <th>3</th>\n",
       "      <td>0.508772</td>\n",
       "      <td>1.111111</td>\n",
       "      <td>0.748166</td>\n",
       "      <td>0.619048</td>\n",
       "      <td>86.661290</td>\n",
       "      <td>6.886486</td>\n",
       "      <td>2.228070</td>\n",
       "      <td>2.714286</td>\n",
       "      <td>1.112782</td>\n",
       "      <td>2.384615</td>\n",
       "      <td>1.680488</td>\n",
       "      <td>0.629630</td>\n",
       "    </tr>\n",
       "    <tr>\n",
       "      <th>4</th>\n",
       "      <td>45.982456</td>\n",
       "      <td>4.222222</td>\n",
       "      <td>112.154034</td>\n",
       "      <td>23.333333</td>\n",
       "      <td>4.491935</td>\n",
       "      <td>0.681081</td>\n",
       "      <td>1.052632</td>\n",
       "      <td>1.276968</td>\n",
       "      <td>2.834586</td>\n",
       "      <td>3.923077</td>\n",
       "      <td>6.353659</td>\n",
       "      <td>13.703704</td>\n",
       "    </tr>\n",
       "  </tbody>\n",
       "</table>\n",
       "</div>"
      ],
      "text/plain": [
       "   Astrocyte0  Ependymal10     Immune1     Immune8   Neurons4  Neurons5  \\\n",
       "0    0.445175     0.333333    0.207824    0.261905   0.475806  0.200000   \n",
       "1    0.883772     1.037037    1.036675    1.047619   4.262097  0.983784   \n",
       "2   24.929825    14.259259    3.867971  161.357143   0.161290  0.091892   \n",
       "3    0.508772     1.111111    0.748166    0.619048  86.661290  6.886486   \n",
       "4   45.982456     4.222222  112.154034   23.333333   4.491935  0.681081   \n",
       "\n",
       "   Neurons7     Oligos3    Oligos6  Vascular11  Vascular2  Vascular9  \n",
       "0  0.087719  343.970845  29.796992    0.230769   0.343902   0.148148  \n",
       "1  1.157895    0.699708   1.345865    0.961538  65.860976   4.703704  \n",
       "2  0.105263    0.416910   2.428571    1.115385   1.590244  31.000000  \n",
       "3  2.228070    2.714286   1.112782    2.384615   1.680488   0.629630  \n",
       "4  1.052632    1.276968   2.834586    3.923077   6.353659  13.703704  "
      ]
     },
     "execution_count": 77,
     "metadata": {},
     "output_type": "execute_result"
    }
   ],
   "source": [
    "# send cell types and cell names to lists\n",
    "type_list = true_proportions.columns.values\n",
    "cell_list = df_counts.columns.values\n",
    "gene_list = df_counts.index\n",
    "\n",
    "# Loop through cell type and summarize 'singlecell_counts' to into a gene-by-celltype matrix (use average values)\n",
    "type_array = np.array([], dtype=np.float64).reshape(len(df_counts), 0)\n",
    "for type in type_list:\n",
    "    cols = [i for i in cell_list if type in i]\n",
    "    type_array = np.hstack([type_array, np.mean(df_counts[cols].to_numpy(dtype=np.float64),axis=1, keepdims=True)])\n",
    "print(f\"The reference profile of cell type - genes is concluded in the matrix with {type_array.shape} dimension.\")\n",
    "# Transfer to database for presentation\n",
    "type_df = pd.DataFrame(type_array, columns = type_list)\n",
    "type_df.head()"
   ]
  },
  {
   "cell_type": "code",
   "execution_count": 7,
   "metadata": {},
   "outputs": [
    {
     "name": "stdout",
     "output_type": "stream",
     "text": [
      "The shape of beta array: (100, 12)\n",
      "\n",
      "The final shape of X array: (10310, 12)\n",
      "\n",
      "The final shape of Y array: (10310, 100)\n",
      "\n",
      "Check TPM normalization:\n",
      "[1000000. 1000000. 1000000. 1000000. 1000000. 1000000. 1000000. 1000000.\n",
      " 1000000. 1000000. 1000000. 1000000. 1000000. 1000000. 1000000. 1000000.\n",
      " 1000000. 1000000. 1000000. 1000000. 1000000. 1000000. 1000000. 1000000.\n",
      " 1000000. 1000000. 1000000. 1000000. 1000000. 1000000. 1000000. 1000000.\n",
      " 1000000. 1000000. 1000000. 1000000. 1000000. 1000000. 1000000. 1000000.\n",
      " 1000000. 1000000. 1000000. 1000000. 1000000. 1000000. 1000000. 1000000.\n",
      " 1000000. 1000000. 1000000. 1000000. 1000000. 1000000. 1000000. 1000000.\n",
      " 1000000. 1000000. 1000000. 1000000. 1000000. 1000000. 1000000. 1000000.\n",
      " 1000000. 1000000. 1000000. 1000000. 1000000. 1000000. 1000000. 1000000.\n",
      " 1000000. 1000000. 1000000. 1000000. 1000000. 1000000. 1000000. 1000000.\n",
      " 1000000. 1000000. 1000000. 1000000. 1000000. 1000000. 1000000. 1000000.\n",
      " 1000000. 1000000. 1000000. 1000000. 1000000. 1000000. 1000000. 1000000.\n",
      " 1000000. 1000000. 1000000. 1000000.]\n"
     ]
    }
   ],
   "source": [
    "# Normalization\n",
    "type_normal = type_array\n",
    "bulk_counts0 = bulk_counts0\n",
    "\n",
    "total_counts = np.sum(bulk_counts0, axis=0) # Y normalization\n",
    "tpm = (bulk_counts0 / total_counts) * 1e6\n",
    "bulk_normal = tpm / np.sum(tpm, axis=0) * 1e6\n",
    "\n",
    "# Attribute variables\n",
    "X = type_normal\n",
    "Y = bulk_normal\n",
    "print(f\"The shape of beta array: {beta0.shape}\\n\")\n",
    "print(f\"The final shape of X array: {X.shape}\\n\")\n",
    "print(f\"The final shape of Y array: {Y.shape}\\n\")\n",
    "\n",
    "print(\"Check TPM normalization:\")\n",
    "print(np.sum(bulk_normal, axis = 0))"
   ]
  },
  {
   "attachments": {},
   "cell_type": "markdown",
   "metadata": {},
   "source": [
    "## 3. Build models"
   ]
  },
  {
   "attachments": {},
   "cell_type": "markdown",
   "metadata": {},
   "source": [
    "### 3.1 Least squares method\n",
    "\n",
    "OLS, non-negative least squares (NNLS) model, rls, LASSO"
   ]
  },
  {
   "cell_type": "code",
   "execution_count": 41,
   "metadata": {},
   "outputs": [],
   "source": [
    "# General functions\n",
    "def reg_sm(reg, X = X, Y = Y, beta0 = beta0): # General model\n",
    "    reg.fit(X, Y)\n",
    "    beta = reg.coef_\n",
    "    if np.any(beta < 0):\n",
    "        beta = np.where(beta<0, 0, beta)\n",
    "        print(\"Proportions in samples have negtive value! They are set to zero.\\n\")\n",
    "    beta = beta.T /np.sum(beta, axis=1)\n",
    "    beta = beta.T\n",
    "\n",
    "    r2_score0 = r2_score(beta0, beta)\n",
    "    mse0 = mean_squared_error(beta0, beta)\n",
    "    mean_pcc = np.mean([np.corrcoef(i0, i)[0, 1] for i0, i in zip(beta0.T, beta.T)])\n",
    "    print(f\"For the model: {reg}\")\n",
    "    print(f\"mean_pcc score: {mean_pcc:.4f}\")\n",
    "    print(f\"R2 score: {r2_score0:.4f}\")\n",
    "    print(f\"MSE: {mse0:.4e}\\n\")\n",
    "\n",
    "def reg_mm(reg, X = X, Y = Y, beta0 = beta0): # multi-feature model (MultiOutputRegressor)\n",
    "    reg.fit(X, Y)\n",
    "    beta = [i.coef_ for i in reg.estimators_]\n",
    "    beta = np.vstack(beta)\n",
    "    if np.any(beta < 0):\n",
    "        beta = np.where(beta<0, 0, beta)\n",
    "        print(\"Proportions in samples have negtive value! They are set to zero.\\n\")\n",
    "    beta = beta.T /np.sum(beta, axis=1)\n",
    "    beta = beta.T\n",
    "\n",
    "    r2_score0 = r2_score(beta0, beta)\n",
    "    mse0 = mean_squared_error(beta0, beta)\n",
    "    mean_pcc = np.mean([np.corrcoef(i0, i)[0, 1] for i0, i in zip(beta0.T, beta.T)])\n",
    "    print(f\"For the model: {reg}\")\n",
    "    print(f\"mean_pcc score: {mean_pcc:.4f}\")\n",
    "    print(f\"R2 score: {r2_score0:.4f}\\n\")\n",
    "    print(f\"MSE: {mse0:.4e}\\n\")"
   ]
  },
  {
   "cell_type": "code",
   "execution_count": 31,
   "metadata": {},
   "outputs": [
    {
     "name": "stdout",
     "output_type": "stream",
     "text": [
      "Proportions in samples have negtive value! They are set to zero.\n",
      "\n",
      "For the model: LinearRegression()\n",
      "mean_pcc score: 0.8286\n",
      "R2 score: 0.4630\n",
      "MSE: 1.2641e-03\n",
      "\n"
     ]
    }
   ],
   "source": [
    "from sklearn.linear_model import LinearRegression\n",
    "\n",
    "reg_ols = LinearRegression()\n",
    "reg_sm(reg_ols, X = X, Y = Y)"
   ]
  },
  {
   "cell_type": "code",
   "execution_count": 32,
   "metadata": {},
   "outputs": [
    {
     "name": "stdout",
     "output_type": "stream",
     "text": [
      "For the model: LinearRegression(positive=True)\n",
      "mean_pcc score: 0.8257\n",
      "R2 score: 0.4413\n",
      "MSE: 1.3145e-03\n",
      "\n"
     ]
    }
   ],
   "source": [
    "reg_nnls = LinearRegression(positive=True)\n",
    "reg_sm(reg_nnls, X = X, Y = Y)"
   ]
  },
  {
   "cell_type": "code",
   "execution_count": 38,
   "metadata": {},
   "outputs": [
    {
     "name": "stdout",
     "output_type": "stream",
     "text": [
      "Proportions in samples have negtive value! They are set to zero.\n",
      "\n",
      "For the model: MultiTaskLassoCV(cv=5, random_state=0)\n",
      "mean_pcc score: 0.8296\n",
      "R2 score: 0.5328\n",
      "MSE: 1.0939e-03\n",
      "\n"
     ]
    }
   ],
   "source": [
    "from sklearn.linear_model import MultiTaskLassoCV # Tried MultiOutputRegressor(LassoCV) and Lasso\n",
    "\n",
    "reg_lassoCV = MultiTaskLassoCV(cv=5, random_state=0)\n",
    "reg_sm(reg_lassoCV, X = X, Y = Y)"
   ]
  },
  {
   "cell_type": "code",
   "execution_count": 39,
   "metadata": {},
   "outputs": [
    {
     "name": "stdout",
     "output_type": "stream",
     "text": [
      "Proportions in samples have negtive value! They are set to zero.\n",
      "\n",
      "For the model: ElasticNet(alpha=0.5)\n",
      "mean_pcc score: 0.8195\n",
      "R2 score: 0.6082\n",
      "MSE: 9.1298e-04\n",
      "\n"
     ]
    }
   ],
   "source": [
    "from sklearn.linear_model import ElasticNet # Tried MultiOutputRegressor(ElasticNetCV) and MultiTaskElasticNetCV\n",
    "\n",
    "reg_els = ElasticNet(alpha = 0.5) # Tried different alpha\n",
    "reg_sm(reg_els, X = X, Y = Y)"
   ]
  },
  {
   "cell_type": "code",
   "execution_count": 44,
   "metadata": {},
   "outputs": [
    {
     "name": "stdout",
     "output_type": "stream",
     "text": [
      "Proportions in samples have negtive value! They are set to zero.\n",
      "\n",
      "For the model: MultiOutputRegressor(estimator=HuberRegressor(epsilon=1, max_iter=1000))\n",
      "mean_pcc score: 0.9173\n",
      "R2 score: 0.7788\n",
      "\n",
      "MSE: 5.0557e-04\n",
      "\n"
     ]
    }
   ],
   "source": [
    "from sklearn.linear_model import HuberRegressor # tried different epsilon 1, 1.5, 2, default one still better\n",
    "\n",
    "reg_rls = MultiOutputRegressor(HuberRegressor(epsilon = 1, max_iter=1000))\n",
    "reg_mm(reg_rls, X = X, Y = Y)"
   ]
  },
  {
   "attachments": {},
   "cell_type": "markdown",
   "metadata": {},
   "source": [
    "### 3.2 Machine learning method\n",
    "\n",
    "Random forest, support vector machines (SVM), and neural network"
   ]
  },
  {
   "cell_type": "code",
   "execution_count": 47,
   "metadata": {},
   "outputs": [
    {
     "name": "stdout",
     "output_type": "stream",
     "text": [
      "Proportions in samples have negtive value! They are set to zero.\n",
      "\n",
      "For the model: MultiOutputRegressor(estimator=NuSVR(C=0.5, kernel='linear', nu=0.75))\n",
      "mean_pcc score: 0.9215\n",
      "R2 score: 0.8212\n",
      "\n",
      "MSE: 4.0396e-04\n",
      "\n"
     ]
    }
   ],
   "source": [
    "from sklearn.svm import NuSVR\n",
    "reg_svr = MultiOutputRegressor(NuSVR(nu= 0.75, C= 0.5, kernel = 'linear'))\n",
    "reg_mm(reg_svr, X = X, Y = Y)"
   ]
  },
  {
   "attachments": {},
   "cell_type": "markdown",
   "metadata": {},
   "source": [
    "## 4. Dimensionality reduction"
   ]
  },
  {
   "attachments": {},
   "cell_type": "markdown",
   "metadata": {},
   "source": [
    "### 4.1 feature selection"
   ]
  },
  {
   "cell_type": "code",
   "execution_count": 49,
   "metadata": {},
   "outputs": [
    {
     "name": "stdout",
     "output_type": "stream",
     "text": [
      "threshold = 0.0025\n",
      "The shape of Y array: (7933, 100)\n",
      "The shape of X array: (7933, 12)\n",
      "\n",
      "Proportions in samples have negtive value! They are set to zero.\n",
      "\n",
      "For the model: MultiOutputRegressor(estimator=NuSVR(C=0.5, kernel='linear', nu=0.75))\n",
      "mean_pcc score: 0.9207\n",
      "R2 score: 0.8195\n",
      "\n",
      "MSE: 4.0802e-04\n",
      "\n",
      "threshold = 0.005\n",
      "The shape of Y array: (6267, 100)\n",
      "The shape of X array: (6267, 12)\n",
      "\n",
      "Proportions in samples have negtive value! They are set to zero.\n",
      "\n",
      "For the model: MultiOutputRegressor(estimator=NuSVR(C=0.5, kernel='linear', nu=0.75))\n",
      "mean_pcc score: 0.9199\n",
      "R2 score: 0.8181\n",
      "\n",
      "MSE: 4.1135e-04\n",
      "\n",
      "threshold = 0.015\n",
      "The shape of Y array: (3957, 100)\n",
      "The shape of X array: (3957, 12)\n",
      "\n",
      "Proportions in samples have negtive value! They are set to zero.\n",
      "\n",
      "For the model: MultiOutputRegressor(estimator=NuSVR(C=0.5, kernel='linear', nu=0.75))\n",
      "mean_pcc score: 0.9188\n",
      "R2 score: 0.8158\n",
      "\n",
      "MSE: 4.1691e-04\n",
      "\n",
      "threshold = 0.05\n",
      "The shape of Y array: (2156, 100)\n",
      "The shape of X array: (2156, 12)\n",
      "\n",
      "Proportions in samples have negtive value! They are set to zero.\n",
      "\n",
      "For the model: MultiOutputRegressor(estimator=NuSVR(C=0.5, kernel='linear', nu=0.75))\n",
      "mean_pcc score: 0.9161\n",
      "R2 score: 0.8109\n",
      "\n",
      "MSE: 4.2913e-04\n",
      "\n",
      "threshold = 0.2\n",
      "The shape of Y array: (987, 100)\n",
      "The shape of X array: (987, 12)\n",
      "\n",
      "Proportions in samples have negtive value! They are set to zero.\n",
      "\n",
      "For the model: MultiOutputRegressor(estimator=NuSVR(C=0.5, kernel='linear', nu=0.75))\n",
      "mean_pcc score: 0.9111\n",
      "R2 score: 0.8020\n",
      "\n",
      "MSE: 4.5068e-04\n",
      "\n",
      "threshold = 0.5\n",
      "The shape of Y array: (566, 100)\n",
      "The shape of X array: (566, 12)\n",
      "\n",
      "Proportions in samples have negtive value! They are set to zero.\n",
      "\n",
      "For the model: MultiOutputRegressor(estimator=NuSVR(C=0.5, kernel='linear', nu=0.75))\n",
      "mean_pcc score: 0.9064\n",
      "R2 score: 0.7930\n",
      "\n",
      "MSE: 4.7300e-04\n",
      "\n",
      "threshold = 2\n",
      "The shape of Y array: (229, 100)\n",
      "The shape of X array: (229, 12)\n",
      "\n",
      "Proportions in samples have negtive value! They are set to zero.\n",
      "\n",
      "For the model: MultiOutputRegressor(estimator=NuSVR(C=0.5, kernel='linear', nu=0.75))\n",
      "mean_pcc score: 0.8874\n",
      "R2 score: 0.7553\n",
      "\n",
      "MSE: 5.6348e-04\n",
      "\n",
      "threshold = 5\n",
      "The shape of Y array: (111, 100)\n",
      "The shape of X array: (111, 12)\n",
      "\n",
      "Proportions in samples have negtive value! They are set to zero.\n",
      "\n",
      "For the model: MultiOutputRegressor(estimator=NuSVR(C=0.5, kernel='linear', nu=0.75))\n",
      "mean_pcc score: 0.8664\n",
      "R2 score: 0.7159\n",
      "\n",
      "MSE: 6.5747e-04\n",
      "\n"
     ]
    }
   ],
   "source": [
    "from sklearn.feature_selection import VarianceThreshold\n",
    "for t0 in [0.0025, 0.005, 0.015, 0.05, 0.2, 0.5, 2, 5]:\n",
    "    selector = VarianceThreshold(threshold=t0)\n",
    "    X0 = selector.fit_transform(X.T).T\n",
    "    Y0 = selector.transform(Y.T).T\n",
    "    print(f\"threshold = {t0}\")\n",
    "    print(f\"The shape of Y array: {Y0.shape}\")\n",
    "    print(f\"The shape of X array: {X0.shape}\\n\")\n",
    "    reg_svr = MultiOutputRegressor(NuSVR(nu= 0.75, C= 0.5, kernel = 'linear'))\n",
    "    reg_mm(reg_svr, X = X0, Y = Y0)"
   ]
  },
  {
   "cell_type": "code",
   "execution_count": 61,
   "metadata": {},
   "outputs": [
    {
     "name": "stdout",
     "output_type": "stream",
     "text": [
      "Covariance threshold = 0.99\n",
      "The shape of Y array: (8235, 100)\n",
      "The shape of X array: (8235, 12)\n",
      "\n",
      "Proportions in samples have negtive value! They are set to zero.\n",
      "\n",
      "For the model: MultiOutputRegressor(estimator=NuSVR(C=0.5, kernel='linear', nu=0.75))\n",
      "mean_pcc score: 0.9193\n",
      "R2 score: 0.8194\n",
      "\n",
      "MSE: 4.0743e-04\n",
      "\n",
      "Covariance threshold = 0.95\n",
      "The shape of Y array: (3768, 100)\n",
      "The shape of X array: (3768, 12)\n",
      "\n",
      "Proportions in samples have negtive value! They are set to zero.\n",
      "\n",
      "For the model: MultiOutputRegressor(estimator=NuSVR(C=0.5, kernel='linear', nu=0.75))\n",
      "mean_pcc score: 0.9101\n",
      "R2 score: 0.7911\n",
      "\n",
      "MSE: 4.7011e-04\n",
      "\n",
      "Covariance threshold = 0.9\n",
      "The shape of Y array: (1289, 100)\n",
      "The shape of X array: (1289, 12)\n",
      "\n",
      "Proportions in samples have negtive value! They are set to zero.\n",
      "\n",
      "For the model: MultiOutputRegressor(estimator=NuSVR(C=0.5, kernel='linear', nu=0.75))\n",
      "mean_pcc score: 0.8747\n",
      "R2 score: 0.6837\n",
      "\n",
      "MSE: 7.2550e-04\n",
      "\n",
      "Covariance threshold = 0.85\n",
      "The shape of Y array: (428, 100)\n",
      "The shape of X array: (428, 12)\n",
      "\n",
      "Proportions in samples have negtive value! They are set to zero.\n",
      "\n",
      "For the model: MultiOutputRegressor(estimator=NuSVR(C=0.5, kernel='linear', nu=0.75))\n",
      "mean_pcc score: 0.8385\n",
      "R2 score: 0.5576\n",
      "\n",
      "MSE: 1.0140e-03\n",
      "\n",
      "Covariance threshold = 0.83\n",
      "The shape of Y array: (288, 100)\n",
      "The shape of X array: (288, 12)\n",
      "\n",
      "Proportions in samples have negtive value! They are set to zero.\n",
      "\n",
      "For the model: MultiOutputRegressor(estimator=NuSVR(C=0.5, kernel='linear', nu=0.75))\n",
      "mean_pcc score: 0.8340\n",
      "R2 score: 0.5329\n",
      "\n",
      "MSE: 1.0690e-03\n",
      "\n",
      "Covariance threshold = 0.8\n",
      "The shape of Y array: (132, 100)\n",
      "The shape of X array: (132, 12)\n",
      "\n",
      "Proportions in samples have negtive value! They are set to zero.\n",
      "\n",
      "For the model: MultiOutputRegressor(estimator=NuSVR(C=0.5, kernel='linear', nu=0.75))\n",
      "mean_pcc score: 0.7766\n",
      "R2 score: 0.2936\n",
      "\n",
      "MSE: 1.6086e-03\n",
      "\n"
     ]
    }
   ],
   "source": [
    "data = pd.DataFrame(X.T)\n",
    "corr_matrix = data.corr().abs()\n",
    "upper = corr_matrix.where(np.triu(np.ones(corr_matrix.shape),k=1).astype(bool))\n",
    "for t0 in [0.99, 0.95, 0.90, 0.85, 0.83, 0.80]:\n",
    "    to_drop= [col for col in upper.columns if any(upper[col] > t0)]\n",
    "    select_list = [i for i in range(X.shape[0]) if i not in to_drop]\n",
    "    X0 = X[select_list]\n",
    "    Y0 = Y[select_list]\n",
    "    print(f\"Covariance threshold = {t0}\")\n",
    "    print(f\"The shape of Y array: {Y0.shape}\")\n",
    "    print(f\"The shape of X array: {X0.shape}\\n\")\n",
    "    reg_svr = MultiOutputRegressor(NuSVR(nu= 0.75, C= 0.5, kernel = 'linear'))\n",
    "    reg_mm(reg_svr, X = X0, Y = Y0)"
   ]
  },
  {
   "cell_type": "code",
   "execution_count": 51,
   "metadata": {},
   "outputs": [
    {
     "name": "stdout",
     "output_type": "stream",
     "text": [
      "For the highly variable flavor is 'seurat' and selecting the top 8000 genes:\n",
      "Proportions in samples have negtive value! They are set to zero.\n",
      "\n",
      "For the model: MultiOutputRegressor(estimator=NuSVR(C=0.5, kernel='linear', nu=0.75))\n",
      "mean_pcc score: 0.9212\n",
      "R2 score: 0.8206\n",
      "\n",
      "MSE: 4.0575e-04\n",
      "\n",
      "For the highly variable flavor is 'seurat' and selecting the top 6000 genes:\n",
      "Proportions in samples have negtive value! They are set to zero.\n",
      "\n",
      "For the model: MultiOutputRegressor(estimator=NuSVR(C=0.5, kernel='linear', nu=0.75))\n",
      "mean_pcc score: 0.9197\n",
      "R2 score: 0.8179\n",
      "\n",
      "MSE: 4.1174e-04\n",
      "\n",
      "For the highly variable flavor is 'seurat' and selecting the top 4000 genes:\n",
      "Proportions in samples have negtive value! They are set to zero.\n",
      "\n",
      "For the model: MultiOutputRegressor(estimator=NuSVR(C=0.5, kernel='linear', nu=0.75))\n",
      "mean_pcc score: 0.9181\n",
      "R2 score: 0.8129\n",
      "\n",
      "MSE: 4.2233e-04\n",
      "\n",
      "For the highly variable flavor is 'seurat' and selecting the top 2000 genes:\n",
      "Proportions in samples have negtive value! They are set to zero.\n",
      "\n",
      "For the model: MultiOutputRegressor(estimator=NuSVR(C=0.5, kernel='linear', nu=0.75))\n",
      "mean_pcc score: 0.9093\n",
      "R2 score: 0.7922\n",
      "\n",
      "MSE: 4.7098e-04\n",
      "\n",
      "For the highly variable flavor is 'seurat' and selecting the top 1000 genes:\n",
      "Proportions in samples have negtive value! They are set to zero.\n",
      "\n",
      "For the model: MultiOutputRegressor(estimator=NuSVR(C=0.5, kernel='linear', nu=0.75))\n",
      "mean_pcc score: 0.8987\n",
      "R2 score: 0.7169\n",
      "\n",
      "MSE: 6.4233e-04\n",
      "\n",
      "For the highly variable flavor is 'seurat' and selecting the top 500 genes:\n",
      "Proportions in samples have negtive value! They are set to zero.\n",
      "\n",
      "For the model: MultiOutputRegressor(estimator=NuSVR(C=0.5, kernel='linear', nu=0.75))\n",
      "mean_pcc score: 0.7792\n",
      "R2 score: -0.2866\n",
      "\n",
      "MSE: 2.9732e-03\n",
      "\n",
      "For the highly variable flavor is 'seurat' and selecting the top 250 genes:\n",
      "Proportions in samples have negtive value! They are set to zero.\n",
      "\n",
      "For the model: MultiOutputRegressor(estimator=NuSVR(C=0.5, kernel='linear', nu=0.75))\n",
      "mean_pcc score: 0.6313\n",
      "R2 score: -2.8493\n",
      "\n",
      "MSE: 9.0236e-03\n",
      "\n",
      "For the highly variable flavor is 'seurat' and selecting the top 100 genes:\n",
      "Proportions in samples have negtive value! They are set to zero.\n",
      "\n",
      "For the model: MultiOutputRegressor(estimator=NuSVR(C=0.5, kernel='linear', nu=0.75))\n",
      "mean_pcc score: 0.5037\n",
      "R2 score: -5.1795\n",
      "\n",
      "MSE: 1.4759e-02\n",
      "\n",
      "For the highly variable flavor is 'cell_ranger' and selecting the top 8000 genes:\n",
      "Proportions in samples have negtive value! They are set to zero.\n",
      "\n",
      "For the model: MultiOutputRegressor(estimator=NuSVR(C=0.5, kernel='linear', nu=0.75))\n",
      "mean_pcc score: 0.9222\n",
      "R2 score: 0.8229\n",
      "\n",
      "MSE: 3.9579e-04\n",
      "\n",
      "For the highly variable flavor is 'cell_ranger' and selecting the top 6000 genes:\n",
      "Proportions in samples have negtive value! They are set to zero.\n",
      "\n",
      "For the model: MultiOutputRegressor(estimator=NuSVR(C=0.5, kernel='linear', nu=0.75))\n",
      "mean_pcc score: 0.9211\n",
      "R2 score: 0.8189\n",
      "\n",
      "MSE: 4.0493e-04\n",
      "\n",
      "For the highly variable flavor is 'cell_ranger' and selecting the top 4000 genes:\n",
      "Proportions in samples have negtive value! They are set to zero.\n",
      "\n",
      "For the model: MultiOutputRegressor(estimator=NuSVR(C=0.5, kernel='linear', nu=0.75))\n",
      "mean_pcc score: 0.9215\n",
      "R2 score: 0.8161\n",
      "\n",
      "MSE: 4.1116e-04\n",
      "\n",
      "For the highly variable flavor is 'cell_ranger' and selecting the top 2000 genes:\n",
      "Proportions in samples have negtive value! They are set to zero.\n",
      "\n",
      "For the model: MultiOutputRegressor(estimator=NuSVR(C=0.5, kernel='linear', nu=0.75))\n",
      "mean_pcc score: 0.9188\n",
      "R2 score: 0.7980\n",
      "\n",
      "MSE: 4.5339e-04\n",
      "\n",
      "For the highly variable flavor is 'cell_ranger' and selecting the top 1000 genes:\n",
      "Proportions in samples have negtive value! They are set to zero.\n",
      "\n",
      "For the model: MultiOutputRegressor(estimator=NuSVR(C=0.5, kernel='linear', nu=0.75))\n",
      "mean_pcc score: 0.9105\n",
      "R2 score: 0.7250\n",
      "\n",
      "MSE: 6.1887e-04\n",
      "\n",
      "For the highly variable flavor is 'cell_ranger' and selecting the top 500 genes:\n",
      "Proportions in samples have negtive value! They are set to zero.\n",
      "\n",
      "For the model: MultiOutputRegressor(estimator=NuSVR(C=0.5, kernel='linear', nu=0.75))\n",
      "mean_pcc score: 0.8938\n",
      "R2 score: 0.6024\n",
      "\n",
      "MSE: 8.8866e-04\n",
      "\n",
      "For the highly variable flavor is 'cell_ranger' and selecting the top 250 genes:\n",
      "Proportions in samples have negtive value! They are set to zero.\n",
      "\n",
      "For the model: MultiOutputRegressor(estimator=NuSVR(C=0.5, kernel='linear', nu=0.75))\n",
      "mean_pcc score: 0.8462\n",
      "R2 score: 0.2176\n",
      "\n",
      "MSE: 1.7305e-03\n",
      "\n",
      "For the highly variable flavor is 'cell_ranger' and selecting the top 100 genes:\n",
      "Proportions in samples have negtive value! They are set to zero.\n",
      "\n",
      "For the model: MultiOutputRegressor(estimator=NuSVR(C=0.5, kernel='linear', nu=0.75))\n",
      "mean_pcc score: 0.7627\n",
      "R2 score: -1.6357\n",
      "\n",
      "MSE: 5.6392e-03\n",
      "\n"
     ]
    }
   ],
   "source": [
    "for f0 in ['seurat', 'cell_ranger']:\n",
    "    for n0 in [8000, 6000, 4000, 2000, 1000, 500, 250, 100]:\n",
    "        sc.pp.highly_variable_genes(sc_counts, flavor=f0, n_top_genes=n0)  # Identify highly variable genes\n",
    "        print(f\"For the highly variable flavor is '{f0}' and selecting the top {n0} genes:\")\n",
    "        highly_variable_genes = sc_counts.var['highly_variable']\n",
    "        df_highly_variable_genes = pd.DataFrame(data=highly_variable_genes, index=sc_counts.var_names) # is or not highly variable genes\n",
    "\n",
    "        df_highly_variable_genes = df_highly_variable_genes[df_highly_variable_genes['highly_variable'] == True]\n",
    "        gene_list = df_counts.index\n",
    "        select_list = [i for i, gene in enumerate(gene_list) if gene in df_highly_variable_genes.index] # index of first 10000 highly variable genes\n",
    "        X0 = X[select_list]\n",
    "        Y0 = Y[select_list]\n",
    "        reg_svr = MultiOutputRegressor(NuSVR(nu= 0.75, C= 0.5, kernel = 'linear'))\n",
    "        reg_mm(reg_svr, X = X0, Y = Y0)"
   ]
  },
  {
   "attachments": {},
   "cell_type": "markdown",
   "metadata": {},
   "source": [
    "## 5. Look into cell types"
   ]
  },
  {
   "cell_type": "code",
   "execution_count": 63,
   "metadata": {},
   "outputs": [
    {
     "name": "stdout",
     "output_type": "stream",
     "text": [
      "For the highly variable flavor is 'cell_ranger' and selecting the top 8000 genes:\n",
      "Proportions in samples have negtive value! They are set to zero.\n",
      "\n"
     ]
    }
   ],
   "source": [
    "sc.pp.highly_variable_genes(sc_counts, flavor='cell_ranger', n_top_genes=8000)  # Identify highly variable genes\n",
    "print(f\"For the highly variable flavor is 'cell_ranger' and selecting the top 8000 genes:\")\n",
    "highly_variable_genes = sc_counts.var['highly_variable']\n",
    "df_highly_variable_genes = pd.DataFrame(data=highly_variable_genes, index=sc_counts.var_names) # is or not highly variable genes\n",
    "\n",
    "df_highly_variable_genes = df_highly_variable_genes[df_highly_variable_genes['highly_variable'] == True]\n",
    "gene_list = df_counts.index\n",
    "select_list = [i for i, gene in enumerate(gene_list) if gene in df_highly_variable_genes.index] # index of first 10000 highly variable genes\n",
    "X0 = X[select_list]\n",
    "Y0 = Y[select_list]\n",
    "reg_svr = MultiOutputRegressor(NuSVR(nu= 0.75, C= 0.5, kernel = 'linear'))\n",
    "reg_svr.fit(X, Y)\n",
    "beta = [i.coef_ for i in reg_svr.estimators_]\n",
    "beta = np.vstack(beta)\n",
    "if np.any(beta < 0):\n",
    "    beta = np.where(beta<0, 0, beta)\n",
    "    print(\"Proportions in samples have negtive value! They are set to zero.\\n\")\n",
    "beta = beta.T /np.sum(beta, axis=1)\n",
    "beta = beta.T"
   ]
  },
  {
   "cell_type": "code",
   "execution_count": 75,
   "metadata": {},
   "outputs": [
    {
     "data": {
      "image/png": "[encoded data removed]",
      "text/plain": [
       "<Figure size 432x288 with 1 Axes>"
      ]
     },
     "metadata": {
      "needs_background": "light"
     },
     "output_type": "display_data"
    }
   ],
   "source": [
    "r2_score0 = [r2_score(i0, i) for i0, i in zip(beta0.T, beta.T)]\n",
    "mse0 = [mean_squared_error(i0, i) for i0, i in zip(beta0.T, beta.T)]\n",
    "mean_pcc = [np.corrcoef(i0, i)[0, 1] for i0, i in zip(beta0.T, beta.T)]\n",
    "plt.plot(type_list, r2_score0)\n",
    "plt.xticks(rotation=45, ha=\"right\")\n",
    "plt.grid()\n",
    "plt.title(\"R2 score - cell types\", fontdict = {\"size\": 18})\n",
    "plt.xlabel(\"Cell types\", fontdict = {\"size\": 14})\n",
    "plt.ylabel(\"R2 score\", fontdict = {\"size\": 14})\n",
    "plt.show()\n"
   ]
  },
  {
   "attachments": {},
   "cell_type": "markdown",
   "metadata": {},
   "source": [
    "## 6. Big data analysis"
   ]
  },
  {
   "cell_type": "code",
   "execution_count": 115,
   "metadata": {},
   "outputs": [
    {
     "name": "stdout",
     "output_type": "stream",
     "text": [
      "Proportions in samples have negtive value! They are set to zero.\n",
      "\n"
     ]
    }
   ],
   "source": [
    "reg_ols = LinearRegression()\n",
    "reg_ols.fit(X, Y)\n",
    "beta2 = reg_ols.coef_\n",
    "if np.any(beta2 < 0):\n",
    "    beta2 = np.where(beta2<0, 0, beta2)\n",
    "    print(\"Proportions in samples have negtive value! They are set to zero.\\n\")\n",
    "beta2 = beta2.T /np.sum(beta2, axis=1)\n",
    "beta2 = beta2.T\n"
   ]
  },
  {
   "cell_type": "code",
   "execution_count": 116,
   "metadata": {},
   "outputs": [
    {
     "data": {
      "image/png": "[encoded data removed]",
      "text/plain": [
       "<Figure size 432x288 with 1 Axes>"
      ]
     },
     "metadata": {
      "needs_background": "light"
     },
     "output_type": "display_data"
    },
    {
     "data": {
      "image/png": "[encoded data removed]",
      "text/plain": [
       "<Figure size 432x288 with 1 Axes>"
      ]
     },
     "metadata": {
      "needs_background": "light"
     },
     "output_type": "display_data"
    },
    {
     "data": {
      "image/png": "[encoded data removed]",
      "text/plain": [
       "<Figure size 432x288 with 1 Axes>"
      ]
     },
     "metadata": {
      "needs_background": "light"
     },
     "output_type": "display_data"
    }
   ],
   "source": [
    "sample_list = true_proportions.index\n",
    "width = 0.9\n",
    "n1 = 10\n",
    "x_list = sample_list[:n1]\n",
    "weight_counts0 = {ct: beta0[:n1].T[i] for i, ct in enumerate(type_list)}\n",
    "weight_counts1 = {ct: beta[:n1].T[i] for i, ct in enumerate(type_list)}\n",
    "weight_counts2 = {ct: beta2[:n1].T[i] for i, ct in enumerate(type_list)}\n",
    "for weight_counts in [weight_counts0, weight_counts1, weight_counts2]:\n",
    "    fig, ax = plt.subplots()\n",
    "    bottom = np.zeros(len(x_list))\n",
    "\n",
    "    for boolean, weight_count in weight_counts.items():\n",
    "        p = ax.bar(x_list, weight_count, width, label=boolean, bottom=bottom)\n",
    "        bottom += weight_count\n",
    "\n",
    "    ax.set_title(\"Number of penguins with above average body mass\")\n",
    "    # Shrink current axis by 20%\n",
    "    box = ax.get_position()\n",
    "    ax.set_position([box.x0, box.y0, box.width * 0.8, box.height])\n",
    "\n",
    "    # Put a legend to the right of the current axis\n",
    "    ax.legend(loc='center left', bbox_to_anchor=(1, 0.5))\n",
    "    plt.xticks(rotation=45, ha=\"right\")\n",
    "    plt.title(\"R2 score - cell types\", fontdict = {\"size\": 18})\n",
    "    plt.xlabel(\"Samples\", fontdict = {\"size\": 14})\n",
    "    plt.ylabel(\"cell type proportions\", fontdict = {\"size\": 14})\n",
    "    plt.show()"
   ]
  },
  {
   "cell_type": "code",
   "execution_count": null,
   "metadata": {},
   "outputs": [],
   "source": []
  }
 ],
 "metadata": {
  "kernelspec": {
   "display_name": "Python 3",
   "language": "python",
   "name": "python3"
  },
  "language_info": {
   "codemirror_mode": {
    "name": "ipython",
    "version": 3
   },
   "file_extension": ".py",
   "mimetype": "text/x-python",
   "name": "python",
   "nbconvert_exporter": "python",
   "pygments_lexer": "ipython3",
   "version": "3.8.6"
  },
  "orig_nbformat": 4
 },
 "nbformat": 4,
 "nbformat_minor": 2
}
